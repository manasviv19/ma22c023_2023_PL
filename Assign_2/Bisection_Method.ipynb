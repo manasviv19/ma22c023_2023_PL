{
  "nbformat": 4,
  "nbformat_minor": 0,
  "metadata": {
    "colab": {
      "provenance": []
    },
    "kernelspec": {
      "name": "python3",
      "display_name": "Python 3"
    },
    "language_info": {
      "name": "python"
    }
  },
  "cells": [
    {
      "cell_type": "code",
      "execution_count": null,
      "metadata": {
        "id": "vNcRt0Re50il"
      },
      "outputs": [],
      "source": [
        "import math\n",
        "from math import cos,sin\n",
        "\n",
        "#Providing inputs\n",
        "\n",
        "a=float(input(\"a(interval initial point)= \"))\n",
        "b=float(input(\"b(interval ending point)= \"))\n",
        "epsilon=float(input(\"epsilon(for accuracy)= \"))\n",
        "\n",
        "fun=input('type your function = ')\n",
        "\n",
        "# Define the function\n",
        "\n",
        "def func():\n",
        "    \"\"\"it convert variable fun (which is sting and which contain mathematical expretion) into a mathematical function \"\"\"\n",
        "    return lambda x: eval(fun)\n",
        "\n",
        "\n",
        "def no_of_iterations(a,b,epsilon):\n",
        "    \"\"\"this function gives number of iterations \"\"\"\n",
        "    i=0\n",
        "    while (b-a)/(2**i)>epsilon:\n",
        "        i+=1\n",
        "    print(f'number of iterations={i}')\n",
        "    return i\n",
        "def bisection(f, a, b, epsilon, niters):\n",
        "    \"\"\"this function calculate root with the help of bisection method \"\"\"\n",
        "    if f(a) * f(b) > 0:\n",
        "        return print('f(a) and f(b) must be of apposit sign')\n",
        "    else:\n",
        "        for i in range(niters+1):\n",
        "            if f(a) * f(b) == 0:\n",
        "                if f(a)==0:\n",
        "                    return print(f\"{a} is root of function\")\n",
        "                else:\n",
        "                    return print(f\"{b} is root of function\")\n",
        "            if f(a)*f(b)<0:\n",
        "                c=(a+b)/2\n",
        "                if f(a) * f(c) < 0:\n",
        "                    b=c\n",
        "                else:\n",
        "                    a=c\n",
        "        print(f\"root(using bisection) = {c}\")\n",
        "        print(f\"value of function at root(using bisection)= {f(c)}\")\n",
        "\n",
        "\n",
        "f=func()\n",
        "niters=no_of_iterations(a,b,epsilon)\n",
        "\n",
        "bisection(f,a,b,epsilon,niters)"
      ]
    },
    {
      "cell_type": "code",
      "source": [],
      "metadata": {
        "id": "fSHO3W6j_LLs"
      },
      "execution_count": null,
      "outputs": []
    }
  ]
}