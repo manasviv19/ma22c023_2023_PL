{
  "nbformat": 4,
  "nbformat_minor": 0,
  "metadata": {
    "colab": {
      "provenance": []
    },
    "kernelspec": {
      "name": "python3",
      "display_name": "Python 3"
    },
    "language_info": {
      "name": "python"
    }
  },
  "cells": [
    {
      "cell_type": "code",
      "execution_count": null,
      "metadata": {
        "id": "DXHvXCLSusJb"
      },
      "outputs": [],
      "source": [
        "#derivate using central difference\n",
        "def D2(f, x, h=1E-6):\n",
        "     return (f(x-h) - 2*f(x) + f(x+h)) / (h*h)"
      ]
    },
    {
      "cell_type": "code",
      "source": [
        "from math import sin\n",
        "D2(sin, 0.2)"
      ],
      "metadata": {
        "colab": {
          "base_uri": "https://localhost:8080/"
        },
        "id": "gS1HuePw3BV7",
        "outputId": "18b0ad48-3418-4579-fea8-a822aa389a8a"
      },
      "execution_count": null,
      "outputs": [
        {
          "output_type": "execute_result",
          "data": {
            "text/plain": [
              "-0.19864665468105613"
            ]
          },
          "metadata": {},
          "execution_count": 4
        }
      ]
    },
    {
      "cell_type": "code",
      "source": [
        " -sin(0.2)"
      ],
      "metadata": {
        "colab": {
          "base_uri": "https://localhost:8080/"
        },
        "id": "tb8brnEl3QPA",
        "outputId": "5daad164-c7e2-460e-a5ae-b0a05f1e2a70"
      },
      "execution_count": null,
      "outputs": [
        {
          "output_type": "execute_result",
          "data": {
            "text/plain": [
              "-0.19866933079506122"
            ]
          },
          "metadata": {},
          "execution_count": 5
        }
      ]
    },
    {
      "cell_type": "code",
      "source": [
        " def g(x):\n",
        "    return sin(2*x)\n",
        "D2(g, 0.2)"
      ],
      "metadata": {
        "colab": {
          "base_uri": "https://localhost:8080/"
        },
        "id": "53bVIb1l3smm",
        "outputId": "7e336020-20a2-4f9d-9f82-3057614b846a"
      },
      "execution_count": null,
      "outputs": [
        {
          "output_type": "execute_result",
          "data": {
            "text/plain": [
              "-1.5576429035490946"
            ]
          },
          "metadata": {},
          "execution_count": 6
        }
      ]
    },
    {
      "cell_type": "code",
      "source": [
        "#Central difference approximation\n",
        "D2(lambda x: sin(2*x),0.2)"
      ],
      "metadata": {
        "colab": {
          "base_uri": "https://localhost:8080/"
        },
        "id": "JJXnPtFk3xqV",
        "outputId": "73c4a637-c581-43e2-90d9-13372abbdaa9"
      },
      "execution_count": null,
      "outputs": [
        {
          "output_type": "execute_result",
          "data": {
            "text/plain": [
              "-1.5576429035490946"
            ]
          },
          "metadata": {},
          "execution_count": 7
        }
      ]
    },
    {
      "cell_type": "code",
      "source": [
        " -4*sin(2* 0.2)"
      ],
      "metadata": {
        "colab": {
          "base_uri": "https://localhost:8080/"
        },
        "id": "vhxyAYFQ4bUr",
        "outputId": "7b39a0d5-3d63-4978-9920-1e4cf7f1d00f"
      },
      "execution_count": null,
      "outputs": [
        {
          "output_type": "execute_result",
          "data": {
            "text/plain": [
              "-1.557673369234602"
            ]
          },
          "metadata": {},
          "execution_count": 8
        }
      ]
    },
    {
      "cell_type": "code",
      "source": [
        "#approximating error\n",
        "print(' h D2 Result Error')\n",
        "for k in range(4,8):\n",
        "    h = 2**(-k)\n",
        "    d2g = D2(lambda x: x**-6, 1, h=h)\n",
        "    e = d2g - 42\n",
        "    print('%.0e %.5f %7.6f' %(h, d2g, e))"
      ],
      "metadata": {
        "colab": {
          "base_uri": "https://localhost:8080/"
        },
        "id": "diAHC43T4lOs",
        "outputId": "d64803fb-26c0-4e63-cddc-3f573d0edab6"
      },
      "execution_count": null,
      "outputs": [
        {
          "output_type": "stream",
          "name": "stdout",
          "text": [
            " h D2 Result Error\n",
            "6e-02 42.99863 0.998629\n",
            "3e-02 42.24698 0.246977\n",
            "2e-02 42.06158 0.061579\n",
            "8e-03 42.01538 0.015384\n"
          ]
        }
      ]
    },
    {
      "cell_type": "code",
      "source": [
        "for k in range(1,14):\n",
        "    h = 10**(-k)\n",
        "    d2g = D2(lambda x: x**-6,1, h)\n",
        "    print('%.0e %18.5f' %(h, d2g))"
      ],
      "metadata": {
        "colab": {
          "base_uri": "https://localhost:8080/"
        },
        "id": "u25-Hc4Y4_eW",
        "outputId": "489bcfc8-73df-4e6d-eeaf-720c268a31fb"
      },
      "execution_count": null,
      "outputs": [
        {
          "output_type": "stream",
          "name": "stdout",
          "text": [
            "1e-01           44.61504\n",
            "1e-02           42.02521\n",
            "1e-03           42.00025\n",
            "1e-04           42.00000\n",
            "1e-05           41.99999\n",
            "1e-06           42.00074\n",
            "1e-07           41.94423\n",
            "1e-08           47.73959\n",
            "1e-09         -666.13381\n",
            "1e-10            0.00000\n",
            "1e-11            0.00000\n",
            "1e-12   -666133814.77509\n",
            "1e-13  66613381477.50939\n"
          ]
        }
      ]
    },
    {
      "cell_type": "code",
      "source": [],
      "metadata": {
        "id": "1H33zzyelAY1"
      },
      "execution_count": null,
      "outputs": []
    }
  ]
}