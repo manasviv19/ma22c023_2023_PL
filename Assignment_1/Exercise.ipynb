{
  "nbformat": 4,
  "nbformat_minor": 0,
  "metadata": {
    "colab": {
      "provenance": []
    },
    "kernelspec": {
      "name": "python3",
      "display_name": "Python 3"
    },
    "language_info": {
      "name": "python"
    }
  },
  "cells": [
    {
      "cell_type": "code",
      "execution_count": 5,
      "metadata": {
        "colab": {
          "base_uri": "https://localhost:8080/"
        },
        "id": "AE303t5sVMFW",
        "outputId": "5d86b2a6-f6df-451b-aa92-73cf888105d2"
      },
      "outputs": [
        {
          "output_type": "stream",
          "name": "stdout",
          "text": [
            "Enter the value of i: 2\n",
            "Enter the value of N: 19\n",
            "The sum of the sequence is: 380\n"
          ]
        }
      ],
      "source": [
        "def series_sum(i, N):\n",
        "    total_sum = 0\n",
        "    for n in range(1, N + 1):\n",
        "        total_sum += n * i\n",
        "    return total_sum\n",
        "\n",
        "i = int(input(\"Enter the value of i: \"))\n",
        "N = int(input(\"Enter the value of N: \"))\n",
        "result = series_sum(i, N)\n",
        "print(f\"The sum of the sequence is: {result}\")"
      ]
    }
  ]
}